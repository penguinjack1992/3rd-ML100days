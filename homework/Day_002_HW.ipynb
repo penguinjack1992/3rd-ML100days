{
 "cells": [
  {
   "cell_type": "markdown",
   "metadata": {},
   "source": [
    "## [作業目標]\n",
    "了解機器學習適合應用的領域與範疇。"
   ]
  },
  {
   "cell_type": "markdown",
   "metadata": {},
   "source": [
    "## [作業重點]\n",
    "透過瞭解機器學習的運作方式，找出非常適用機器學習應用的領域及其原因"
   ]
  },
  {
   "cell_type": "markdown",
   "metadata": {},
   "source": [
    "## 作業\n",
    "請找出一個你認為機器學習可以發光發熱的領域並闡述原因? "
   ]
  },
  {
   "cell_type": "markdown",
   "metadata": {},
   "source": [
    "健康管理\n",
    "\n",
    "健康的管理建議不透過與醫生的問診而是透過AI的反饋\n",
    "\n",
    "撇除法律限制因素，現代許多人會使用運動手環記錄身體狀況\n",
    "\n",
    "如果利用機器學習分類不同年紀、基因、性別、身體數據資料與生活習慣等大數據資料，便能讓AI根據人的身體狀況給出精準的健康管理建議\n",
    "\n",
    "人類之間的問診需要考慮的因子很多，包含醫師對於疾病判斷的經驗數量、醫師的問診心理陷阱、病人對於自己的病症描述不夠正確等，因而導致醫生問診有高達25%的誤診率\n",
    "\n",
    "因此相較於人類問診，AI有可能因為數據的深度及多元性來達到更高精度的健康管理建議"
   ]
  },
  {
   "cell_type": "code",
   "execution_count": null,
   "metadata": {},
   "outputs": [],
   "source": []
  }
 ],
 "metadata": {
  "kernelspec": {
   "display_name": "Python 3",
   "language": "python",
   "name": "python3"
  },
  "language_info": {
   "codemirror_mode": {
    "name": "ipython",
    "version": 3
   },
   "file_extension": ".py",
   "mimetype": "text/x-python",
   "name": "python",
   "nbconvert_exporter": "python",
   "pygments_lexer": "ipython3",
   "version": "3.7.3"
  }
 },
 "nbformat": 4,
 "nbformat_minor": 2
}
